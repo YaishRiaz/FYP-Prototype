{
 "cells": [
  {
   "cell_type": "code",
   "execution_count": null,
   "id": "8f3a114f",
   "metadata": {},
   "outputs": [],
   "source": [
    "import numpy as np\n",
    "import pickle as pkl\n",
    "import tensorflow as tf\n",
    "\n",
    "from sklearn.model_selection import train_test_split"
   ]
  },
  {
   "cell_type": "code",
   "execution_count": null,
   "id": "c43f6a45",
   "metadata": {},
   "outputs": [],
   "source": [
    "foul_result = np.array(['Foul', 'Not foul'])"
   ]
  },
  {
   "cell_type": "code",
   "execution_count": null,
   "id": "ed48bbba",
   "metadata": {},
   "outputs": [],
   "source": [
    "# Load the keypoint data from the pickle file\n",
    "with open(r\"C:\\Users\\ayesh\\Downloads\\Yaish\\Foul_1.pkl\", \"rb\") as file:\n",
    "    data = pkl.load(file)\n",
    "    \n",
    "# with open(r\"C:\\Users\\ayesh\\Downloads\\Yaish\\Foul_2.pkl\", \"rb\") as file:\n",
    "#     data_2 = pkl.load(file)\n",
    "    \n",
    "# data = data_1 + data_2"
   ]
  },
  {
   "cell_type": "code",
   "execution_count": null,
   "id": "bf838346",
   "metadata": {},
   "outputs": [],
   "source": [
    "print(f\"{len(data)}\\n\\t=>{data[0].shape}\")"
   ]
  },
  {
   "cell_type": "code",
   "execution_count": null,
   "id": "6f386dd7",
   "metadata": {},
   "outputs": [],
   "source": [
    "# Checking the frames \n",
    "foul_list = []\n",
    "for item in data:\n",
    "#     print(item.shape)\n",
    "#     print(len(item))\n",
    "#     break\n",
    "    if len(item) == 61:\n",
    "        foul_list.append(item)\n",
    "        \n",
    "foul_list = np.array(foul_list)"
   ]
  },
  {
   "cell_type": "code",
   "execution_count": null,
   "id": "43a110d7",
   "metadata": {
    "scrolled": true
   },
   "outputs": [],
   "source": [
    "foul_list.shape"
   ]
  },
  {
   "cell_type": "code",
   "execution_count": null,
   "id": "9ade5e80",
   "metadata": {},
   "outputs": [],
   "source": [
    "# slicing the frames from 61 to 60 \n",
    "foul_list = foul_list[:,:60]\n",
    "foul_list.shape"
   ]
  },
  {
   "cell_type": "code",
   "execution_count": null,
   "id": "ae96ab75",
   "metadata": {},
   "outputs": [],
   "source": [
    "foul_labels = np.zeros((len(foul_list)))\n",
    "foul_labels.shape"
   ]
  },
  {
   "cell_type": "code",
   "execution_count": null,
   "id": "59f1e587",
   "metadata": {},
   "outputs": [],
   "source": [
    "# Load the keypoint data from the pickle file\n",
    "with open(r\"C:\\Users\\ayesh\\Downloads\\Yaish\\Non_Foul.pkl\", \"rb\") as file:\n",
    "    data = pkl.load(file)\n",
    "    \n",
    "# with open(r\"C:\\Users\\ayesh\\Downloads\\Yaish\\Foul_2.pkl\", \"rb\") as file:\n",
    "#     data_2 = pkl.load(file)\n",
    "    \n",
    "# data = data_1 + data_2"
   ]
  },
  {
   "cell_type": "code",
   "execution_count": null,
   "id": "8e6ac848",
   "metadata": {},
   "outputs": [],
   "source": [
    "print(f\"{len(data)}\\n\\t=>{data[0].shape}\")"
   ]
  },
  {
   "cell_type": "code",
   "execution_count": null,
   "id": "484c5c4c",
   "metadata": {},
   "outputs": [],
   "source": [
    "# Checking the frames \n",
    "non_foul_list = []\n",
    "for item in data:\n",
    "#     print(item.shape)\n",
    "#     print(len(item))\n",
    "#     break\n",
    "    if len(item) == 2:\n",
    "        non_foul_list.append(item)\n",
    "        \n",
    "non_foul_list = np.array(non_foul_list)"
   ]
  },
  {
   "cell_type": "code",
   "execution_count": null,
   "id": "3b1ebaac",
   "metadata": {},
   "outputs": [],
   "source": [
    "non_foul_list.shape"
   ]
  },
  {
   "cell_type": "code",
   "execution_count": null,
   "id": "293817ce",
   "metadata": {},
   "outputs": [],
   "source": [
    "# slicing the frames\n",
    "non_foul_list = non_foul_list[:,:60]\n",
    "non_foul_list.shape"
   ]
  },
  {
   "cell_type": "code",
   "execution_count": null,
   "id": "20a6be10",
   "metadata": {},
   "outputs": [],
   "source": [
    "non_foul_labels = np.ones((len(non_foul_list)))\n",
    "non_foul_labels.shape"
   ]
  }
 ],
 "metadata": {
  "kernelspec": {
   "display_name": "Python 3 (ipykernel)",
   "language": "python",
   "name": "python3"
  },
  "language_info": {
   "codemirror_mode": {
    "name": "ipython",
    "version": 3
   },
   "file_extension": ".py",
   "mimetype": "text/x-python",
   "name": "python",
   "nbconvert_exporter": "python",
   "pygments_lexer": "ipython3",
   "version": "3.9.16"
  }
 },
 "nbformat": 4,
 "nbformat_minor": 5
}
